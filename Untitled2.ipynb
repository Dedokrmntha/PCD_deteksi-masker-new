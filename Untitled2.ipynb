{
 "cells": [
  {
   "cell_type": "code",
   "execution_count": null,
   "id": "24b90831",
   "metadata": {},
   "outputs": [],
   "source": [
    "import cv2\n",
    "\n",
    "videoCam = cv2.VideoCapture(0)\n",
    "\n",
    "while True:\n",
    "   cond, frame = videoCam.read()\n",
    "   edge = cv2.Canny(frame, 70, 70)\n",
    "\n",
    "   cv2.imshow('Edge Detect', edge)\n",
    "\n",
    "   exit = cv2.waitKey(1) & 0xff\n",
    "   if exit == ord('q'):\n",
    "       break\n",
    "\n",
    "videoCam.release()\n",
    "cv2.destroyAllWindows()"
   ]
  },
  {
   "cell_type": "code",
   "execution_count": null,
   "id": "80771d96",
   "metadata": {
    "scrolled": true
   },
   "outputs": [],
   "source": [
    "import cv2\n",
    "\n",
    "videoCam = cv2.VideoCapture(0)\n",
    "\n",
    "face = cv2.CascadeClassifier('face-detect.xml')\n",
    "eye = cv2.CascadeClassifier('eye-detect.xml')\n",
    "\n",
    "while True:\n",
    "    cond, frame = videoCam.read()\n",
    "\n",
    "    gray = cv2.cvtColor(frame, cv2.COLOR_BGR2GRAY)\n",
    "    muka = face.detectMultiScale(gray, 1.3, 5)\n",
    "    for (x,y,w,h) in muka:\n",
    "        cv2.rectangle(frame, (x,y), (x+w, y+h), (0, 255, 0), 5)\n",
    "\n",
    "        roi_warna = frame[y:y+h, x:x+w]\n",
    "        roi_gray = gray[y:y+h, x:x+w]\n",
    "        mata = eye.detectMultiScale(roi_gray)\n",
    "        for (mx,my,mw,mh)in mata:\n",
    "            cv2.rectangle(roi_warna, (mx,my), (mx+mw, my+mh), (255,255,0), 2)\n",
    "\n",
    "    cv2.imshow('Face dan Eye detection', frame)\n",
    "\n",
    "    k = cv2.waitKey(1) & 0xff\n",
    "    if k == ord('q'):\n",
    "        break\n",
    "\n",
    "videoCam.release()\n",
    "cv2.destroyAllWindows()"
   ]
  },
  {
   "cell_type": "code",
   "execution_count": null,
   "id": "6d91a34c",
   "metadata": {},
   "outputs": [],
   "source": []
  }
 ],
 "metadata": {
  "kernelspec": {
   "display_name": "Python 3 (ipykernel)",
   "language": "python",
   "name": "python3"
  },
  "language_info": {
   "codemirror_mode": {
    "name": "ipython",
    "version": 3
   },
   "file_extension": ".py",
   "mimetype": "text/x-python",
   "name": "python",
   "nbconvert_exporter": "python",
   "pygments_lexer": "ipython3",
   "version": "3.9.12"
  }
 },
 "nbformat": 4,
 "nbformat_minor": 5
}
