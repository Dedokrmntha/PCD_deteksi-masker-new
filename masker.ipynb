{
 "cells": [
  {
   "cell_type": "code",
   "execution_count": 1,
   "id": "2de2045c-6a10-4d4d-ada3-2342f417d262",
   "metadata": {
    "id": "2de2045c-6a10-4d4d-ada3-2342f417d262"
   },
   "outputs": [
    {
     "ename": "",
     "evalue": "",
     "output_type": "error",
     "traceback": [
      "\u001b[1;31mCanceled future for execute_request message before replies were done"
     ]
    },
    {
     "ename": "",
     "evalue": "",
     "output_type": "error",
     "traceback": [
      "\u001b[1;31mThe Kernel crashed while executing code in the the current cell or a previous cell. Please review the code in the cell(s) to identify a possible cause of the failure. Click <a href='https://aka.ms/vscodeJupyterKernelCrash'>here</a> for more info. View Jupyter <a href='command:jupyter.viewOutput'>log</a> for further details."
     ]
    }
   ],
   "source": [
    "import cv2\n",
    "import matplotlib.pyplot as plt\n",
    "import numpy as np\n",
    "\n",
    "mask_on = False\n",
    "\n",
    "face_cascade = cv2.CascadeClassifier('haarcascade_frontalface_default.xml')\n",
    "eye_cascade = cv2.CascadeClassifier('haarcascade_eye.xml')\n",
    "nose_cascade = cv2.CascadeClassifier('Nariz_Hidung.xml')\n",
    "\n",
    "cap = cv2.VideoCapture(0)\n",
    "ret,frame1 = cap.read()\n",
    "\n",
    "prev_img = cv2.cvtColor(frame1,cv2.COLOR_BGR2GRAY)\n",
    "\n",
    "hsv_mask = np.zeros_like(frame1)\n",
    "hsv_mask[:,:,1] = 255\n",
    "\n",
    "\n",
    "while True:\n",
    "    _, frame = cap.read()\n",
    "    nextImg = cv2.cvtColor(frame,cv2.COLOR_BGR2GRAY)\n",
    "    gray = cv2.cvtColor(frame,cv2.COLOR_BGR2GRAY)\n",
    "    flow = cv2.calcOpticalFlowFarneback(prev_img,nextImg,None,0.5,3,15,3,5,1.2,0)\n",
    "    \n",
    "    mag,ang = cv2.cartToPolar(flow[:,:,0],flow[:,:,1],angleInDegrees = True)\n",
    "    \n",
    "    hsv_mask[:,:,0] = ang/2\n",
    "    \n",
    "    hsv_mask[:,:,2] = cv2.normalize(mag,None,0,255,cv2.NORM_MINMAX)\n",
    "    \n",
    "    bgr = cv2.cvtColor(hsv_mask,cv2.COLOR_HSV2BGR)\n",
    "    \n",
    "    cv2.imshow('frame',bgr)\n",
    "    k = cv2.waitKey(30) & 0xFF\n",
    "    \n",
    "    if k == 27:\n",
    "        break\n",
    "        \n",
    "        prev_img = nextImg\n",
    "\n",
    "#deteksi wajah\n",
    "\n",
    "    face = face_cascade.detectMultiScale(gray, 1.3, 5)\n",
    "    for (x, y, w, h) in face:\n",
    "        if mask_on:\n",
    "            cv2.rectangle(frame, (x, y), (x+w, y+h), (255, 0, 0), 3)\n",
    "            cv2.putText (frame,'Mask on', (x, y), cv2.FONT_HERSHEY_SIMPLEX, 2,(0, 255, 0), 5)\n",
    "        else:\n",
    "            cv2.rectangle(frame, (x, y), (x+w, y+h), (0, 0, 255), 3)\n",
    "            cv2.putText (frame,'Mask off', (x, y), cv2.FONT_HERSHEY_SIMPLEX, 2,(0, 255, 0), 5)\n",
    "            \n",
    "\n",
    "        roi_gray = gray[y:y+h, x:x+w]\n",
    "        roi_color = frame[y:y+h, x:x+w]\n",
    "       \n",
    "       #Deteksi mata\n",
    "        eye = eye_cascade.detectMultiScale(roi_gray)\n",
    "        for (ex,ey,ew,eh) in eye:\n",
    "            cv2.rectangle(roi_color, (ex, ey), (ex+ew, ey+eh), (0, 255, 0), 2)\n",
    "            cv2.putText (frame,'eye', (x + ex,y +ey), 1, 2,(0, 255, 0), 2)\n",
    "            \n",
    "\n",
    "            #Deteksi hidung \n",
    "            nose = nose_cascade.detectMultiScale(gray, 1.18, 35)\n",
    "            for (sx,sy,sw,sh) in nose:\n",
    "                cv2.rectangle(frame, (sx, sy), (sx+sw, sy+sh), (255, 0, 0) ,2)\n",
    "                cv2.putText (frame,'nose', (x + sx,y +sy), 1, 3,(255, 0, 0), 2)\n",
    "\n",
    "            if len(nose)>0:\n",
    "                mask_on = False\n",
    "            else:\n",
    "                mask_on = True\n",
    "\n",
    "    cv2.putText (frame,'jumlah wajah : ' + str(len(face)), (30,30), cv2.FONT_HERSHEY_SIMPLEX, 1,(0, 255, 0), 2)\n",
    "    cv2.imshow('Face', frame)\n",
    "\n",
    "    \n",
    "if cv2.waitKey(30) & 0xff == ord('q'):\n",
    "    break \n",
    "cap.release()\n",
    "cv2.destroyAllWindows()\n"
   ]
  },
  {
   "cell_type": "code",
   "execution_count": null,
   "id": "96a46cc5-0d10-47b7-91a8-250a10d6c28d",
   "metadata": {
    "id": "96a46cc5-0d10-47b7-91a8-250a10d6c28d"
   },
   "outputs": [],
   "source": []
  }
 ],
 "metadata": {
  "colab": {
   "provenance": []
  },
  "kernelspec": {
   "display_name": "base",
   "language": "python",
   "name": "python3"
  },
  "language_info": {
   "codemirror_mode": {
    "name": "ipython",
    "version": 3
   },
   "file_extension": ".py",
   "mimetype": "text/x-python",
   "name": "python",
   "nbconvert_exporter": "python",
   "pygments_lexer": "ipython3",
   "version": "3.9.12 (main, Apr  4 2022, 05:22:27) [MSC v.1916 64 bit (AMD64)]"
  },
  "vscode": {
   "interpreter": {
    "hash": "769b21c267fd802c48e8d7bc66505b07448a18b89720a89adae5faf4923f59cd"
   }
  }
 },
 "nbformat": 4,
 "nbformat_minor": 5
}
