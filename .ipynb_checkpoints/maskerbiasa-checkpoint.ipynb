{
 "cells": [
  {
   "cell_type": "code",
   "execution_count": 7,
   "id": "2de2045c-6a10-4d4d-ada3-2342f417d262",
   "metadata": {
    "id": "2de2045c-6a10-4d4d-ada3-2342f417d262"
   },
   "outputs": [
    {
     "ename": "AttributeError",
     "evalue": "module 'cv2' has no attribute 'cv2Color'",
     "output_type": "error",
     "traceback": [
      "\u001b[1;31m---------------------------------------------------------------------------\u001b[0m",
      "\u001b[1;31mAttributeError\u001b[0m                            Traceback (most recent call last)",
      "Input \u001b[1;32mIn [7]\u001b[0m, in \u001b[0;36m<cell line: 14>\u001b[1;34m()\u001b[0m\n\u001b[0;32m     13\u001b[0m \u001b[38;5;28;01mwhile\u001b[39;00m \u001b[38;5;28;01mTrue\u001b[39;00m:\n\u001b[0;32m     14\u001b[0m     _, frame \u001b[38;5;241m=\u001b[39m cap\u001b[38;5;241m.\u001b[39mread()\n\u001b[1;32m---> 15\u001b[0m     gray \u001b[38;5;241m=\u001b[39m\u001b[43mcv2\u001b[49m\u001b[38;5;241;43m.\u001b[39;49m\u001b[43mcv2Color\u001b[49m(frame,cv2\u001b[38;5;241m.\u001b[39mCOLOR_BGR2GRAY)\n\u001b[0;32m     17\u001b[0m \u001b[38;5;66;03m#deteksi wajah\u001b[39;00m\n\u001b[0;32m     19\u001b[0m     face \u001b[38;5;241m=\u001b[39m face_cascade\u001b[38;5;241m.\u001b[39mdetectMultiScale(gray, \u001b[38;5;241m1.3\u001b[39m, \u001b[38;5;241m5\u001b[39m)\n",
      "\u001b[1;31mAttributeError\u001b[0m: module 'cv2' has no attribute 'cv2Color'"
     ]
    }
   ],
   "source": [
    "import cv2\n",
    "import matplotlib.pyplot as plt\n",
    "import numpy as np\n",
    "\n",
    "mask_on = False\n",
    "\n",
    "face_cascade = cv2.CascadeClassifier('haarcascade_frontalface_default.xml')\n",
    "eye_cascade = cv2.CascadeClassifier('haarcascade_eye.xml')\n",
    "nose_cascade = cv2.CascadeClassifier('Nariz_Hidung.xml')\n",
    "\n",
    "cap = cv2.VideoCapture(0)\n",
    "\n",
    "while True:\n",
    "    _, frame = cap.read()\n",
    "    gray =cv2.cvtColor(frame,cv2.COLOR_BGR2GRAY)\n",
    "\n",
    "#deteksi wajah\n",
    "\n",
    "    face = face_cascade.detectMultiScale(gray, 1.3, 5)\n",
    "    for (x, y, w, h) in face:\n",
    "        if mask_on:\n",
    "            cv2.rectangle(frame, (x, y), (x+w, y+h), (255, 0, 0), 3)\n",
    "            cv2.putText (frame,'Mask on', (x, y), cv2.FONT_HERSHEY_SIMPLEX, 2,(0, 255, 0), 5)\n",
    "        else:\n",
    "            cv2.rectangle(frame, (x, y), (x+w, y+h), (0, 0, 255), 3)\n",
    "            cv2.putText (frame,'Mask off', (x, y), cv2.FONT_HERSHEY_SIMPLEX, 2,(0, 255, 0), 5)\n",
    "            \n",
    "\n",
    "        roi_gray = gray[y:y+h, x:x+w]\n",
    "        roi_color = frame[y:y+h, x:x+w]\n",
    "       \n",
    "       #Deteksi mata\n",
    "        eye = eye_cascade.detectMultiScale(roi_gray)\n",
    "        for (ex,ey,ew,eh) in eye:\n",
    "            cv2.rectangle(roi_color, (ex, ey), (ex+ew, ey+eh), (0, 255, 0), 2)\n",
    "            cv2.putText (frame,'eye', (x + ex,y +ey), 1, 2,(0, 255, 0), 2)\n",
    "            \n",
    "\n",
    "            #Deteksi hidung \n",
    "            nose = nose_cascade.detectMultiScale(gray, 1.18, 35)\n",
    "            for (sx,sy,sw,sh) in nose:\n",
    "                cv2.rectangle(frame, (sx, sy), (sx+sw, sy+sh), (255, 0, 0) ,2)\n",
    "                cv2.putText (frame,'nose', (x + sx,y +sy), 1, 3,(255, 0, 0), 2)\n",
    "\n",
    "            if len(nose)>0:\n",
    "                mask_on = False\n",
    "            else:\n",
    "                mask_on = True\n",
    "\n",
    "    cv2.putText (frame,'jumlah wajah : ' + str(len(face)), (30,30), cv2.FONT_HERSHEY_SIMPLEX, 1,(0, 255, 0), 2)\n",
    "    cv2.imshow('Face', frame)\n",
    "\n",
    "    if cv2.waitKey(30) & 0xff == ord('q'):\n",
    "        break\n",
    "    \n",
    "cap.release()\n",
    "cv2.destroyAllWindows()\n"
   ]
  },
  {
   "cell_type": "code",
   "execution_count": null,
   "id": "96a46cc5-0d10-47b7-91a8-250a10d6c28d",
   "metadata": {
    "id": "96a46cc5-0d10-47b7-91a8-250a10d6c28d"
   },
   "outputs": [],
   "source": []
  }
 ],
 "metadata": {
  "colab": {
   "provenance": []
  },
  "kernelspec": {
   "display_name": "Python 3 (ipykernel)",
   "language": "python",
   "name": "python3"
  },
  "language_info": {
   "codemirror_mode": {
    "name": "ipython",
    "version": 3
   },
   "file_extension": ".py",
   "mimetype": "text/x-python",
   "name": "python",
   "nbconvert_exporter": "python",
   "pygments_lexer": "ipython3",
   "version": "3.9.12"
  },
  "vscode": {
   "interpreter": {
    "hash": "769b21c267fd802c48e8d7bc66505b07448a18b89720a89adae5faf4923f59cd"
   }
  }
 },
 "nbformat": 4,
 "nbformat_minor": 5
}
